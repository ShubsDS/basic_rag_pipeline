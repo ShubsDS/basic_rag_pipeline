{
 "cells": [
  {
   "cell_type": "code",
   "execution_count": 81,
   "metadata": {},
   "outputs": [],
   "source": [
    "from openai import OpenAI\n",
    "from sentence_transformers import SentenceTransformer\n",
    "import sys\n",
    "import numpy as np"
   ]
  },
  {
   "cell_type": "code",
   "execution_count": 82,
   "metadata": {},
   "outputs": [],
   "source": [
    "with open('api-key.txt') as f:\n",
    "    key = f.read()\n",
    "client = OpenAI(api_key=key)"
   ]
  },
  {
   "cell_type": "code",
   "execution_count": 83,
   "metadata": {},
   "outputs": [
    {
     "name": "stdout",
     "output_type": "stream",
     "text": [
      "['Hades II is an upcoming roguelike action role-playing game video game developed and published by Supergiant Games, serving as a sequel to Hades (2020). It was announced in December 2022 and was released in early access in May 2024 for Windows and in October 2024 for macOS, with plans to bring the game to consoles after the early access period. The game follows MelinoÃ«, Princess of the Underworld and sister to Zagreus, the protagonist of the first game. MelinoÃ« aims to defeat Chronos, the Titan of Time, with the aid of other Olympian Gods. \\n\\nLike the first game, Hades II is a roguelike dungeon crawler game. Set \"sometime\" after the events of Hades in the same universe, the sequel stars MelinoÃ«, Princess of the Underworld and sister to the protagonist of the first game, Zagreus. Alongside her mentor Hecate, she aims to defeat Chronos, the titan of time, who returned to enact revenge on all gods and mortals who opposed him in the past and took her family prisoner. Returning from Hades is \"God Mode\", which allows the player to gain more power after each run. New to the game is the \"Magick Bar,\" a combat resource used for moves that recharges by attacking enemies. Unlike the original game which had a single path from Tartarus to the surface across four different biomes, the sequel introduces two different paths, one from Erebus to Tartarus and another from Ephyra to Mount Olympus. \\n\\nHades, which was first released in early access in 2018 and had its full release in 2020, was Supergiant\\'s most successful game by that point, but lead writer Greg Kasavin said the team was undecided as to if the game would receive a sequel. Typical of Supergiant\\'s process, after completing a game, the team determines what project next created the most excitement for the team, and it was realized that many on the team felt there were still more stories and mythological characters they could explore that were not included in Hades that made a prospect of a sequel the preferred option.[9] However, as this would also be the studio\\'s first sequel, they were aware they wanted to expand on Hades in meaningful ways without losing the core of the original game. Studio head Amir Rao cited examples of Portal 2 and Diablo II as successful sequels they wanted to follow.[9] Work on the sequel began near the start of 2021.\\n\\nKasavin said that they knew early on that they did not want to return to Zagreus as the main character. He began researching more into Greek mythology, coming across the Orphic Hymns, one which described MelinoÃ« as the daughter of Hades and Persephone but otherwise little else written about her. Besides the family connection to Zagreus, Supergiant has not mentioned her at all within Hades, allowing them to write a fresh story. MelinoÃ« was also tied to the occult side of Greek mythology, allowing them to introduce magic as a gameplay mechanic as well as the figure of Hecate, MelinoÃ«\\'s mentor.\\n\\nJen Zee remained as art director for Hades II, following her work on Hades. Among the voice cast includes Asa Butterfield as Icarus and Amelia Tyler as Hecate. Logan Cunningham, a staple of Supergiant\\'s games, returned to voice Hades as well as Chronos and several other mythological figures.\\n\\nHades II was revealed during The Game Awards 2022 on December 8, 2022. A technical test began in April 2024 before its release to early access on May 5, 2024. Like its predecessor, Hades II features music by Darren Korb. The soundtrack was made available via Supergiant\\'s YouTube account the same day as the early access launch.\\n\\nOn October 16, 2024, an expansion titled The Olympic Update, was released. It contained an entirely new region, weapons, and characters. The game also released on macOS with the release of this expansion.', 'The only way you can really get \"good\" at pvp is by practicing for lots and lots of time. Many of the very good PVP\\'ers that you see on youtube have played lots and lots of years ago.\\n\\nNot just practice is important, practicing the right thing is the best thing you can do. So in this post, I\\'ll go over what to practice, why its important, and then some general tips.\\n\\nThe very most important thing you can practice is your aim. Bow aim, rod aim, snowball aim, melee aim, just aim in general. If you can\\'t aim, all the other things will be completely useless. I recommend training if you really want to with an aim trainer that you can find online. Either that or you can just play more minecraft pvp in general, as that helps your aim as well. However, before focusing on bow aiming, you should focus on melee and rod/snowball/egg aiming as those are the more important ones. alright guys i now realize due to some helpful guys in the comments that aim trainers won\\'t help at all because you\\'re holding left click and not spam clicking. However, there are SOME aim trainers that will make you spam left click and aim at the same time. However, i still stand by my point where if you play more MCpvp, you will get better at most things.\\n\\nNow, im going to get into CPS. This is a very controversial topic, as many people have many arguments about this so freaking much. In pvp situations, you only really need 7-10 cps at most. Yeah sure, cps is cool and all, but its genuinely not that important. with training, you can just normal click 7-9 cps and that is all you need. The only real need for CPS is in speedbridging (all of those fancy bridges like moonwalk, telly, gb, etc etc) so really all you need is the ability to normal click at decently fast speeds.\\n\\nNow for movement. PVP is VERY movement based, as the amount of blocks that you can hit someone is dependent on how fast you are moving, the faster you are, the more reach you have. And the opposite is true as well, the slower you are, the less reach you have. This is why you see people using fishing rods, snowballs, or blocks even, to slow someone down before hitting them with their sword. The reason that people do this is because all of these things slow someone down, making it much much easier to start and hold a combo when fighting someone. So, this is why you should practice rodding, using snowballs or eggs, or even placing blocks in front of someone to stop their movement and start a combo.\\n\\nSprint Resetting (also a part of movement but very important so i\\'ll put it in a diff category). The way minecrafts KB works in 1.8 PVP is that you need to sprint reset to get more kb (which is needed to get good combos). After you sprint and hit someone, they will take an initial 3 blocks of KB when standing still, and then if you keep hitting without sprint resetting, they will take less KB as you aren\\'t resetting your sprint. So, what you need to do after hitting someone is one of four things (these are the most common) 1: W tap (let go of W and start holding it again while still holding your sprint key) S tap (tap S while holding W and sprint key) Block hit (useful in other situations but you can right click your sword to slow you down and then reset your sprint) and crouch for a split second and then go back to sprinting. Also, remember that sometimes you don\\'t want your enemy to get knocked off, or take more KB. sometimes, people hold S when they are in a combo so they can escape the combo and run away/heal. If you see someone doing this, stop W tapping and just keep hitting them normally.\\n\\nGENERAL TIPS: these are some basic tips that are useful in most situations but aren\\'t 100% needed.\\n\\ninstall optifine, or a pvp client. (not to be confused with hacked clients)PVPlounge, Lunar, and others are all pretty good, and can boost your FPS and get you some cool mods that aren\\'t cheating, but will help you with pvp.\\n\\nBlockhit. So many people don\\'t blockhit and its really just a bad idea not to. Blockhit whenever you are in a close situation and trading hits or in a closed off area and KB doesn\\'t really matter. As i stated earlier, blockhitting can also be used to sprint reset.\\n\\nHOTKEYING. Instead of using your scroll wheel or using your number keys, set your item slots to something else that is easier for you to reach. I personally use R, T, G, H for my 6-9th slot (nice?) and it works out for me, but you can always use whatever is comfortable for you. (such as your mouse buttons if you have any, or F, C, X, Z keys) Hotkeying is used for switching to different items faster, and is just a good idea for PVP. ', \"We are going to talk about Chopin's Fantasie Impromptu today. \\nThis Fantaisie-Impromptu was written in 1834, but Chopin didnâ€™t publish it in his lifetime. In fact, he specifically requested that none of his unpublished works be published after his death â€“ though this was completely ignored and there are quite a few posthumous compositions of his that we now enjoy.\\nThis piece was written in the key of C# minor, just like Beethovenâ€™s famous Moonlight Sonata, and that isnâ€™t the only similarity between the two. More on that in a moment.\\nFantaisie-Impromptu is one of Chopinâ€™s most famous and most performed compositions, and itâ€™s been all over popular media â€“ youâ€™ve likely heard it at least once in your life.\\nThis composition is the fourth in a series of four Impromptus written by Chopin â€“ the other three were published in his lifetime.\\nSo why did Chopin leave this one unpublished?\\nWell, Chopin dedicated it to his close friend Julian Fontana, and Julian was the one who published it in 1855 after Chopinâ€™s death. Itâ€™s thought that, since it bore so many similarities to Moonlight Sonata, Chopin might not have wanted to publish it.\\nAnother version of the impromptu was discovered by Arthur Barenboim, a version that Chopin had seemingly updated â€“ perhaps he didnâ€™t want to publish it because he was still working out details.\\nBoth Chopinâ€™s Fantaisie-Impromptu and Beethovenâ€™s Moonlight Sonata are in the key of C sharp minor, and they have a lot in common tonally and harmonically (especially the third movement of the sonata). They both have a middle section in Db major (the B section in the impromptu, and the second movement in the sonata). They both have similar runs and a driving sense of urgency. Beethovenâ€™s is marked â€œpresto agitatoâ€, and Chopinâ€™s is marked â€œallegro agitatoâ€. (Presto=very fast, allegro=fast).\\nErnst Oster, a musicologist, wrote,\\nâ€œChopin understood Beethoven to a degree that no one who has written on the Câ™¯ minor Sonata or the Fantaisie-Impromptu has ever understood him. â€¦ The Fantaisie-Impromptu is perhaps the only instance where one genius discloses to usâ€”if only by means of a composition of his ownâ€”what he actually hears in the work of another genius.â€\\nWeâ€™re going to take a listen to the introduction of Beethovenâ€™s third movement from his Moonlight Sonata, and then weâ€™re going to dive into the intro of Fantaisie-Impromptu. Listen for a similar vibe â€“ Beethovenâ€™s is more intense, Chopinâ€™s a little more nocturnal.\\nSo now that weâ€™ve talked about Chopinâ€™s musical inspiration for his impromptu, letâ€™s start discussing its musical features.\\nIn this composition, youâ€™ll find:\\nPolyrhythm (two different rhythms in each hand â€“ 16th notes in the right hand with left hand triplets), Cut time (2/2) in the A section/part 1, and 4/4 time in the B section (cut time tends to have more energy, whereas 4/4 has more flow), Key change from C# minor to Db major (the parallel major â€“ Db/C# are the same note on the piano), An interesting decision to end on a major chord (tierce de picardie), Ternary form (A-B-A, three-part form)\\nLetâ€™s talk about what a fantasie-impromptu is before we dig into this piece a little further. Just like waltzes, nocturnes, scherzos and other genres Chopin wrote in, an impromptu is a specific type of musical composition.\\nPut simply, an impromptu has a freestyle improvised sound. Perhaps it was a composition that was born out of improvisation, or maybe it doesnâ€™t have any formal structure â€“ the end result is something that sounds spontaneous.\\nImpromptus are usually written for a solo instrument, and the genre came about in the Romantic era in the early 1800s. Fantasies are very similar, but itâ€™s an older genre (Mozart, Bach and others wrote Fantasies centuries before Chopin)\\nEven though impromptus are written in the spirit of improvisation, they still tend to have some structure, such as the ternary (ABA) form youâ€™ll find in this impromptu.\\nLetâ€™s look at the first section, part A. This section has a very stormy and restless feel â€“ â€œagitatedâ€, like the tempo marking suggests at the beginning.\\nThe thing about the polyrhythm in this section is that it isnâ€™t too hard to play either hand separately, but itâ€™s very challenging to play both of them at the same time, since theyâ€™re different rhythms. The right hand is playing sixteenth notes and the left hand is playing eighth notes, which means the notes are only being pressed at the same time every third note.\\nWeâ€™ve already listened to the main theme of the A section â€“ letâ€™s now have a look at the second theme. These themes are simply musical ideas that will recur throughout the piece.\\nIn this section, youâ€™ll hear the melody in the middle register of the piano, indicated by the accented notes. The notes have accents to tell the performer that these must be louder than the surrounding notes, which ends up being a lot of work for the thumb â€“ but essential if the audience is to hear the melody.\\nThis part also sounds a little happier, since it moves to the relative major key of E major. Letâ€™s have a listen!\\nThe A section culminates in a big descending chromatic scale and a left hand octave melody that digs lower and lower. This gives us a feeling that things are looking very grim, like falling into a pit â€“ but instead of crashing, we are taken into the much sunnier B section.\\nSo now weâ€™re in the middle Db major key section. We start off with a tempo marking of largo (slow), which is quickly followed by the marking Moderato Cantabile (moderate and in a singing style).\\nThe right hand melody in this section really does sing â€“ itâ€™s very lovely. I always encourage my students to come up with their own â€œstoriesâ€ for pieces like this, and for me, Iâ€™m reminded of a dream. In the A section, the dream is very scary â€“ maybe youâ€™re running from something â€“ and then youâ€™re free-falling through the sky. But instead of falling and crashing to your doom, you fall through a hole into another world, one thatâ€™s golden and serene.\\nIt sounds a little silly to say it aloud, but those kinds of images and imaginings are what can really bring a composition to life in your mind. There are no words to tell you what the story is â€“ you create the story yourself.\\nThe golden, dreamy sequence carries on and repeats for a couple of minutes before transitioning back into the stormy A section. There isnâ€™t a dramatic build-up to the transition â€“ rather, the lovely major sound dissipates as though it was never there â€“ like it was the dream, and now weâ€™re back to a dark reality.\"]\n"
     ]
    }
   ],
   "source": [
    "documents = []\n",
    "s = \"\"\n",
    "with open('hadestwo.txt') as f:\n",
    "    for line in f:\n",
    "        s += line\n",
    "documents.append(s)\n",
    "\n",
    "s = \"\"\n",
    "with open('mcpvp.txt') as f:\n",
    "    for line in f:\n",
    "        s += line\n",
    "documents.append(s)\n",
    "\n",
    "s = \"\"\n",
    "with open('fantasie.txt', errors = 'ignore') as f:\n",
    "    for line in f:\n",
    "        s += line\n",
    "documents.append(s)\n",
    "\n",
    "print(documents)\n"
   ]
  },
  {
   "cell_type": "code",
   "execution_count": 84,
   "metadata": {},
   "outputs": [],
   "source": [
    "# Function to create embeddings\n",
    "def get_embedding(text, model=\"text-embedding-3-small\"):\n",
    "   text = text.replace(\"\\n\", \" \")\n",
    "   return client.embeddings.create(input = [text], model=model).data[0].embedding\n",
    "\n",
    "try:\n",
    "    document_embeddings = np.load('document_embeddings.npy', allow_pickle=True)\n",
    "except FileNotFoundError:\n",
    "    document_embeddings = [get_embedding(doc) for doc in documents]\n",
    "    np.save('document_embeddings.npy', document_embeddings)"
   ]
  },
  {
   "cell_type": "code",
   "execution_count": 85,
   "metadata": {},
   "outputs": [
    {
     "name": "stderr",
     "output_type": "stream",
     "text": [
      "Add of existing embedding ID: doc_0\n",
      "Insert of existing embedding ID: doc_0\n",
      "Add of existing embedding ID: doc_1\n",
      "Insert of existing embedding ID: doc_1\n",
      "Add of existing embedding ID: doc_2\n",
      "Insert of existing embedding ID: doc_2\n"
     ]
    }
   ],
   "source": [
    "import chromadb\n",
    "from chromadb.utils import embedding_functions\n",
    "\n",
    "# Initialize ChromaDB client\n",
    "chroma_client = chromadb.PersistentClient()\n",
    "\n",
    "# Create or get a collection in ChromaDB\n",
    "collection_name = \"basic_collection\"\n",
    "\n",
    "collection = chroma_client.get_or_create_collection(name = collection_name)\n",
    "\n",
    "\n",
    "# Add documents and their embeddings to the collection\n",
    "for index, (doc, embedding) in enumerate(zip(documents, document_embeddings)):\n",
    "    collection.add(\n",
    "        ids=[f\"doc_{index}\"],\n",
    "        documents=[doc],\n",
    "        embeddings=[embedding]\n",
    "    )\n"
   ]
  },
  {
   "cell_type": "code",
   "execution_count": null,
   "metadata": {},
   "outputs": [
    {
     "name": "stdout",
     "output_type": "stream",
     "text": [
      "[\"We are going to talk about Chopin's Fantasie Impromptu today. \\nThis Fantaisie-Impromptu was written in 1834, but Chopin didnâ€™t publish it in his lifetime. In fact, he specifically requested that none of his unpublished works be published after his death â€“ though this was completely ignored and there are quite a few posthumous compositions of his that we now enjoy.\\nThis piece was written in the key of C# minor, just like Beethovenâ€™s famous Moonlight Sonata, and that isnâ€™t the only similarity between the two. More on that in a moment.\\nFantaisie-Impromptu is one of Chopinâ€™s most famous and most performed compositions, and itâ€™s been all over popular media â€“ youâ€™ve likely heard it at least once in your life.\\nThis composition is the fourth in a series of four Impromptus written by Chopin â€“ the other three were published in his lifetime.\\nSo why did Chopin leave this one unpublished?\\nWell, Chopin dedicated it to his close friend Julian Fontana, and Julian was the one who published it in 1855 after Chopinâ€™s death. Itâ€™s thought that, since it bore so many similarities to Moonlight Sonata, Chopin might not have wanted to publish it.\\nAnother version of the impromptu was discovered by Arthur Barenboim, a version that Chopin had seemingly updated â€“ perhaps he didnâ€™t want to publish it because he was still working out details.\\nBoth Chopinâ€™s Fantaisie-Impromptu and Beethovenâ€™s Moonlight Sonata are in the key of C sharp minor, and they have a lot in common tonally and harmonically (especially the third movement of the sonata). They both have a middle section in Db major (the B section in the impromptu, and the second movement in the sonata). They both have similar runs and a driving sense of urgency. Beethovenâ€™s is marked â€œpresto agitatoâ€, and Chopinâ€™s is marked â€œallegro agitatoâ€. (Presto=very fast, allegro=fast).\\nErnst Oster, a musicologist, wrote,\\nâ€œChopin understood Beethoven to a degree that no one who has written on the Câ™¯ minor Sonata or the Fantaisie-Impromptu has ever understood him. â€¦ The Fantaisie-Impromptu is perhaps the only instance where one genius discloses to usâ€”if only by means of a composition of his ownâ€”what he actually hears in the work of another genius.â€\\nWeâ€™re going to take a listen to the introduction of Beethovenâ€™s third movement from his Moonlight Sonata, and then weâ€™re going to dive into the intro of Fantaisie-Impromptu. Listen for a similar vibe â€“ Beethovenâ€™s is more intense, Chopinâ€™s a little more nocturnal.\\nSo now that weâ€™ve talked about Chopinâ€™s musical inspiration for his impromptu, letâ€™s start discussing its musical features.\\nIn this composition, youâ€™ll find:\\nPolyrhythm (two different rhythms in each hand â€“ 16th notes in the right hand with left hand triplets), Cut time (2/2) in the A section/part 1, and 4/4 time in the B section (cut time tends to have more energy, whereas 4/4 has more flow), Key change from C# minor to Db major (the parallel major â€“ Db/C# are the same note on the piano), An interesting decision to end on a major chord (tierce de picardie), Ternary form (A-B-A, three-part form)\\nLetâ€™s talk about what a fantasie-impromptu is before we dig into this piece a little further. Just like waltzes, nocturnes, scherzos and other genres Chopin wrote in, an impromptu is a specific type of musical composition.\\nPut simply, an impromptu has a freestyle improvised sound. Perhaps it was a composition that was born out of improvisation, or maybe it doesnâ€™t have any formal structure â€“ the end result is something that sounds spontaneous.\\nImpromptus are usually written for a solo instrument, and the genre came about in the Romantic era in the early 1800s. Fantasies are very similar, but itâ€™s an older genre (Mozart, Bach and others wrote Fantasies centuries before Chopin)\\nEven though impromptus are written in the spirit of improvisation, they still tend to have some structure, such as the ternary (ABA) form youâ€™ll find in this impromptu.\\nLetâ€™s look at the first section, part A. This section has a very stormy and restless feel â€“ â€œagitatedâ€, like the tempo marking suggests at the beginning.\\nThe thing about the polyrhythm in this section is that it isnâ€™t too hard to play either hand separately, but itâ€™s very challenging to play both of them at the same time, since theyâ€™re different rhythms. The right hand is playing sixteenth notes and the left hand is playing eighth notes, which means the notes are only being pressed at the same time every third note.\\nWeâ€™ve already listened to the main theme of the A section â€“ letâ€™s now have a look at the second theme. These themes are simply musical ideas that will recur throughout the piece.\\nIn this section, youâ€™ll hear the melody in the middle register of the piano, indicated by the accented notes. The notes have accents to tell the performer that these must be louder than the surrounding notes, which ends up being a lot of work for the thumb â€“ but essential if the audience is to hear the melody.\\nThis part also sounds a little happier, since it moves to the relative major key of E major. Letâ€™s have a listen!\\nThe A section culminates in a big descending chromatic scale and a left hand octave melody that digs lower and lower. This gives us a feeling that things are looking very grim, like falling into a pit â€“ but instead of crashing, we are taken into the much sunnier B section.\\nSo now weâ€™re in the middle Db major key section. We start off with a tempo marking of largo (slow), which is quickly followed by the marking Moderato Cantabile (moderate and in a singing style).\\nThe right hand melody in this section really does sing â€“ itâ€™s very lovely. I always encourage my students to come up with their own â€œstoriesâ€ for pieces like this, and for me, Iâ€™m reminded of a dream. In the A section, the dream is very scary â€“ maybe youâ€™re running from something â€“ and then youâ€™re free-falling through the sky. But instead of falling and crashing to your doom, you fall through a hole into another world, one thatâ€™s golden and serene.\\nIt sounds a little silly to say it aloud, but those kinds of images and imaginings are what can really bring a composition to life in your mind. There are no words to tell you what the story is â€“ you create the story yourself.\\nThe golden, dreamy sequence carries on and repeats for a couple of minutes before transitioning back into the stormy A section. There isnâ€™t a dramatic build-up to the transition â€“ rather, the lovely major sound dissipates as though it was never there â€“ like it was the dream, and now weâ€™re back to a dark reality.\"]\n"
     ]
    }
   ],
   "source": [
    "query = input(\"Enter your query: \")\n",
    "\n",
    "query_embedding = get_embedding(query)\n",
    "\n",
    "k = 1\n",
    "\n",
    "# Search for similar documents\n",
    "results = collection.query(\n",
    "    query_embeddings=[query_embedding],\n",
    "    n_results=k\n",
    ")\n",
    "\n",
    "retrieved_docs = results['documents'][0]\n",
    "\n",
    "total_context = \"\" \n",
    "for doc in retrieved_docs:\n",
    "    total_context += doc\n",
    "    total_context += \"\\n\"\n"
   ]
  },
  {
   "cell_type": "code",
   "execution_count": null,
   "metadata": {},
   "outputs": [
    {
     "name": "stdout",
     "output_type": "stream",
     "text": [
      "\n",
      "Prompt:\n",
      "\n",
      "You are an expert in the fields of video game history, especially indie games such as hades 2, the music of Chopin, and minecraft 1.8 player vs player combat\n",
      "\n",
      "Based on the following context, provide a detailed answer to the question.\n",
      "\n",
      "Context:\n",
      "We are going to talk about Chopin's Fantasie Impromptu today. \n",
      "This Fantaisie-Impromptu was written in 1834, but Chopin didnâ€™t publish it in his lifetime. In fact, he specifically requested that none of his unpublished works be published after his death â€“ though this was completely ignored and there are quite a few posthumous compositions of his that we now enjoy.\n",
      "This piece was written in the key of C# minor, just like Beethovenâ€™s famous Moonlight Sonata, and that isnâ€™t the only similarity between the two. More on that in a moment.\n",
      "Fantaisie-Impromptu is one of Chopinâ€™s most famous and most performed compositions, and itâ€™s been all over popular media â€“ youâ€™ve likely heard it at least once in your life.\n",
      "This composition is the fourth in a series of four Impromptus written by Chopin â€“ the other three were published in his lifetime.\n",
      "So why did Chopin leave this one unpublished?\n",
      "Well, Chopin dedicated it to his close friend Julian Fontana, and Julian was the one who published it in 1855 after Chopinâ€™s death. Itâ€™s thought that, since it bore so many similarities to Moonlight Sonata, Chopin might not have wanted to publish it.\n",
      "Another version of the impromptu was discovered by Arthur Barenboim, a version that Chopin had seemingly updated â€“ perhaps he didnâ€™t want to publish it because he was still working out details.\n",
      "Both Chopinâ€™s Fantaisie-Impromptu and Beethovenâ€™s Moonlight Sonata are in the key of C sharp minor, and they have a lot in common tonally and harmonically (especially the third movement of the sonata). They both have a middle section in Db major (the B section in the impromptu, and the second movement in the sonata). They both have similar runs and a driving sense of urgency. Beethovenâ€™s is marked â€œpresto agitatoâ€, and Chopinâ€™s is marked â€œallegro agitatoâ€. (Presto=very fast, allegro=fast).\n",
      "Ernst Oster, a musicologist, wrote,\n",
      "â€œChopin understood Beethoven to a degree that no one who has written on the Câ™¯ minor Sonata or the Fantaisie-Impromptu has ever understood him. â€¦ The Fantaisie-Impromptu is perhaps the only instance where one genius discloses to usâ€”if only by means of a composition of his ownâ€”what he actually hears in the work of another genius.â€\n",
      "Weâ€™re going to take a listen to the introduction of Beethovenâ€™s third movement from his Moonlight Sonata, and then weâ€™re going to dive into the intro of Fantaisie-Impromptu. Listen for a similar vibe â€“ Beethovenâ€™s is more intense, Chopinâ€™s a little more nocturnal.\n",
      "So now that weâ€™ve talked about Chopinâ€™s musical inspiration for his impromptu, letâ€™s start discussing its musical features.\n",
      "In this composition, youâ€™ll find:\n",
      "Polyrhythm (two different rhythms in each hand â€“ 16th notes in the right hand with left hand triplets), Cut time (2/2) in the A section/part 1, and 4/4 time in the B section (cut time tends to have more energy, whereas 4/4 has more flow), Key change from C# minor to Db major (the parallel major â€“ Db/C# are the same note on the piano), An interesting decision to end on a major chord (tierce de picardie), Ternary form (A-B-A, three-part form)\n",
      "Letâ€™s talk about what a fantasie-impromptu is before we dig into this piece a little further. Just like waltzes, nocturnes, scherzos and other genres Chopin wrote in, an impromptu is a specific type of musical composition.\n",
      "Put simply, an impromptu has a freestyle improvised sound. Perhaps it was a composition that was born out of improvisation, or maybe it doesnâ€™t have any formal structure â€“ the end result is something that sounds spontaneous.\n",
      "Impromptus are usually written for a solo instrument, and the genre came about in the Romantic era in the early 1800s. Fantasies are very similar, but itâ€™s an older genre (Mozart, Bach and others wrote Fantasies centuries before Chopin)\n",
      "Even though impromptus are written in the spirit of improvisation, they still tend to have some structure, such as the ternary (ABA) form youâ€™ll find in this impromptu.\n",
      "Letâ€™s look at the first section, part A. This section has a very stormy and restless feel â€“ â€œagitatedâ€, like the tempo marking suggests at the beginning.\n",
      "The thing about the polyrhythm in this section is that it isnâ€™t too hard to play either hand separately, but itâ€™s very challenging to play both of them at the same time, since theyâ€™re different rhythms. The right hand is playing sixteenth notes and the left hand is playing eighth notes, which means the notes are only being pressed at the same time every third note.\n",
      "Weâ€™ve already listened to the main theme of the A section â€“ letâ€™s now have a look at the second theme. These themes are simply musical ideas that will recur throughout the piece.\n",
      "In this section, youâ€™ll hear the melody in the middle register of the piano, indicated by the accented notes. The notes have accents to tell the performer that these must be louder than the surrounding notes, which ends up being a lot of work for the thumb â€“ but essential if the audience is to hear the melody.\n",
      "This part also sounds a little happier, since it moves to the relative major key of E major. Letâ€™s have a listen!\n",
      "The A section culminates in a big descending chromatic scale and a left hand octave melody that digs lower and lower. This gives us a feeling that things are looking very grim, like falling into a pit â€“ but instead of crashing, we are taken into the much sunnier B section.\n",
      "So now weâ€™re in the middle Db major key section. We start off with a tempo marking of largo (slow), which is quickly followed by the marking Moderato Cantabile (moderate and in a singing style).\n",
      "The right hand melody in this section really does sing â€“ itâ€™s very lovely. I always encourage my students to come up with their own â€œstoriesâ€ for pieces like this, and for me, Iâ€™m reminded of a dream. In the A section, the dream is very scary â€“ maybe youâ€™re running from something â€“ and then youâ€™re free-falling through the sky. But instead of falling and crashing to your doom, you fall through a hole into another world, one thatâ€™s golden and serene.\n",
      "It sounds a little silly to say it aloud, but those kinds of images and imaginings are what can really bring a composition to life in your mind. There are no words to tell you what the story is â€“ you create the story yourself.\n",
      "The golden, dreamy sequence carries on and repeats for a couple of minutes before transitioning back into the stormy A section. There isnâ€™t a dramatic build-up to the transition â€“ rather, the lovely major sound dissipates as though it was never there â€“ like it was the dream, and now weâ€™re back to a dark reality.\n",
      "\n",
      "\n",
      "Question:\n",
      "are there 3 on 2 polyrhythms in the A section of Chopin's fantasie impromptu?\n",
      "\n",
      "Answer:\n",
      "\n",
      "\n",
      "Answer:\n",
      "In the A section of Chopin's Fantaisie-Impromptu, there are indeed instances of polyrhythms, specifically a 3 against 2 rhythm. The right hand plays sixteenth notes in a steady stream, while the left hand plays triplet eighth notes. This creates a polyrhythmic texture where the right hand's faster sixteenth notes (essentially playing four notes in the time that the left hand plays three) interact with the left hand's triplets. \n",
      "\n",
      "This rhythmic interplay is characteristic of Chopin's style and contributes to the complex and agitated feel of the A section. It can be quite challenging for pianists to coordinate these two different rhythmic figures simultaneously, as they require precise timing and control to ensure that the polyrhythm sounds seamless. The contrast between the two hands adds to the overall intensity and emotional depth of the piece, enhancing the \"stormy\" and \"restless\" atmosphere described in the analysis.\n"
     ]
    }
   ],
   "source": [
    "\n",
    "\n",
    "system_message = \"\"\" you are an expert in the fields of music and video games. You have especially studied the content and development of hades 2. You are additionally a minecraft pvp expert. Finally, you are a chopin specialist with great knowledge of his works.\n",
    "\"\"\"\n",
    "user_message = f\"\"\" \n",
    "Based on the following context, provide a detailed answer to this question\n",
    "\n",
    "Context:\n",
    "{total_context}\n",
    "\n",
    "Question:\n",
    "{query}\n",
    "\n",
    "Answer:\n",
    "\"\"\"\n",
    "\n",
    "\n",
    "# Print the entire prompt\n",
    "print(\"\\nPrompt:\")\n",
    "print(system_message)\n",
    "print(user_message)\n",
    "\n",
    "# Generate a response using the language model\n",
    "response = client.chat.completions.create(\n",
    "    model=\"gpt-4o-mini\",\n",
    "    messages = [{\"role\" : \"system\", \"content\": system_message},\n",
    "    {\"role\" : \"user\", \"content\" : user_message}\n",
    "    ],\n",
    "    max_tokens=300,\n",
    "    temperature=0.7\n",
    ")\n",
    "\n",
    "# Extract and print the answer\n",
    "answer = response.choices[0].message.content\n",
    "print(\"\\nAnswer:\")\n",
    "print(answer)"
   ]
  }
 ],
 "metadata": {
  "kernelspec": {
   "display_name": "LMI",
   "language": "python",
   "name": "python3"
  },
  "language_info": {
   "codemirror_mode": {
    "name": "ipython",
    "version": 3
   },
   "file_extension": ".py",
   "mimetype": "text/x-python",
   "name": "python",
   "nbconvert_exporter": "python",
   "pygments_lexer": "ipython3",
   "version": "3.11.5"
  }
 },
 "nbformat": 4,
 "nbformat_minor": 2
}
